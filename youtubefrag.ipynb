{
  "nbformat": 4,
  "nbformat_minor": 0,
  "metadata": {
    "colab": {
      "provenance": [],
      "authorship_tag": "ABX9TyMvwVlsVNVdxJXVHhlLyq6G",
      "include_colab_link": true
    },
    "kernelspec": {
      "name": "python3",
      "display_name": "Python 3"
    },
    "language_info": {
      "name": "python"
    }
  },
  "cells": [
    {
      "cell_type": "markdown",
      "metadata": {
        "id": "view-in-github",
        "colab_type": "text"
      },
      "source": [
        "<a href=\"https://colab.research.google.com/github/geovaneBausen/dados/blob/main/youtubefrag.ipynb\" target=\"_parent\"><img src=\"https://colab.research.google.com/assets/colab-badge.svg\" alt=\"Open In Colab\"/></a>"
      ]
    },
    {
      "cell_type": "markdown",
      "source": [
        "# Este projeto expande o poder de análise do Gemini para vídeos, superando suas limitações de tamanho e download.\n",
        " Os destaques são:\n",
        "\n",
        "*Análise de vídeos em larga escala: Processa vídeos de qualquer tamanho hospedados no YouTube.\n",
        "\n",
        "\n",
        "*Integração com o YouTube: Baixa vídeos e extrai transcrições automaticamente via API.\n",
        "\n",
        "\n",
        "*Resumo automático com Gemini: Usa o Gemini para gerar resumos concisos das transcrições.\n",
        "\n",
        "\n",
        "*Visualização completa: Apresenta resumos e timelines dos vídeos processados de forma clar\n",
        "\n",
        "\n"
      ],
      "metadata": {
        "id": "VHlumB88aksO"
      }
    },
    {
      "cell_type": "code",
      "execution_count": 1,
      "metadata": {
        "id": "St6DQ_yzXmVi"
      },
      "outputs": [],
      "source": [
        "#Modo de Depuração (Debug Mode)\n",
        "#A função debug_print foi criada para imprimir mensagens de depuração apenas quando o modo de depuração está ativado. Para ativar o modo de depuração, defina a variável debug como True\n",
        "\n",
        "debug = False\n",
        "\n",
        "def debug_print(message):\n",
        "    if debug:\n",
        "        print(message)"
      ]
    },
    {
      "cell_type": "code",
      "source": [
        "!pip install -q -U google -generativeai"
      ],
      "metadata": {
        "colab": {
          "base_uri": "https://localhost:8080/"
        },
        "id": "rgeGdQkvXrxD",
        "outputId": "a6ac2232-5a55-4302-f5c3-c7100fc8b377"
      },
      "execution_count": 2,
      "outputs": [
        {
          "output_type": "stream",
          "name": "stdout",
          "text": [
            "\n",
            "Usage:   \n",
            "  pip3 install [options] <requirement specifier> [package-index-options] ...\n",
            "  pip3 install [options] -r <requirements file> [package-index-options] ...\n",
            "  pip3 install [options] [-e] <vcs project url> ...\n",
            "  pip3 install [options] [-e] <local project path> ...\n",
            "  pip3 install [options] <archive url/path> ...\n",
            "\n",
            "no such option: -g\n"
          ]
        }
      ]
    },
    {
      "cell_type": "code",
      "source": [
        "!pip install pytube youtube_transcript_api"
      ],
      "metadata": {
        "colab": {
          "base_uri": "https://localhost:8080/"
        },
        "id": "r221vXa5XvPy",
        "outputId": "9a6ce8c1-1204-41c6-d217-4e440eccac52"
      },
      "execution_count": 3,
      "outputs": [
        {
          "output_type": "stream",
          "name": "stdout",
          "text": [
            "Collecting pytube\n",
            "  Downloading pytube-15.0.0-py3-none-any.whl (57 kB)\n",
            "\u001b[?25l     \u001b[90m━━━━━━━━━━━━━━━━━━━━━━━━━━━━━━━━━━━━━━━━\u001b[0m \u001b[32m0.0/57.6 kB\u001b[0m \u001b[31m?\u001b[0m eta \u001b[36m-:--:--\u001b[0m\r\u001b[2K     \u001b[90m━━━━━━━━━━━━━━━━━━━━━━━━━━━━━━━━━━━━━━━━\u001b[0m \u001b[32m57.6/57.6 kB\u001b[0m \u001b[31m1.7 MB/s\u001b[0m eta \u001b[36m0:00:00\u001b[0m\n",
            "\u001b[?25hCollecting youtube_transcript_api\n",
            "  Downloading youtube_transcript_api-0.6.2-py3-none-any.whl (24 kB)\n",
            "Requirement already satisfied: requests in /usr/local/lib/python3.10/dist-packages (from youtube_transcript_api) (2.31.0)\n",
            "Requirement already satisfied: charset-normalizer<4,>=2 in /usr/local/lib/python3.10/dist-packages (from requests->youtube_transcript_api) (3.3.2)\n",
            "Requirement already satisfied: idna<4,>=2.5 in /usr/local/lib/python3.10/dist-packages (from requests->youtube_transcript_api) (3.7)\n",
            "Requirement already satisfied: urllib3<3,>=1.21.1 in /usr/local/lib/python3.10/dist-packages (from requests->youtube_transcript_api) (2.0.7)\n",
            "Requirement already satisfied: certifi>=2017.4.17 in /usr/local/lib/python3.10/dist-packages (from requests->youtube_transcript_api) (2024.2.2)\n",
            "Installing collected packages: pytube, youtube_transcript_api\n",
            "Successfully installed pytube-15.0.0 youtube_transcript_api-0.6.2\n"
          ]
        }
      ]
    },
    {
      "cell_type": "code",
      "source": [
        "#  URL do vídeo que você quer baixar\n",
        "video_url = \"https://www.youtube.com/watch?v=OmewFkKuidg\"\n",
        "\n",
        "from pytube import YouTube\n",
        "from youtube_transcript_api import YouTubeTranscriptApi\n",
        "import json\n",
        "\n",
        "try:\n",
        "    yt = YouTube(video_url)\n",
        "    video_stream = yt.streams.get_highest_resolution()\n",
        "\n",
        "    # Download do vídeo\n",
        "    video_stream.download()\n",
        "\n",
        "    # Extrair o ID do vídeo ID from the URL\n",
        "    video_id = video_url.split(\"v=\")[1]\n",
        "\n",
        "    # Transcript do vídeo\n",
        "    transcripts = YouTubeTranscriptApi.get_transcript(video_id, languages=['pt', 'en'])\n",
        "\n",
        "    if transcripts:\n",
        "        subtitle_text = \" \".join([entry[\"text\"] for entry in transcripts])\n",
        "\n",
        "        debug_print(\"*** Transcripts:\")\n",
        "        debug_print(subtitle_text)\n",
        "    else:\n",
        "        debug_print(\"Transcript não disponível para este vídeo.\")\n",
        "\n",
        "except Exception as e:\n",
        "    debug_print(f\"Erro: {str(e)}\")\n"
      ],
      "metadata": {
        "id": "-oLpN0A2Xz0r"
      },
      "execution_count": 21,
      "outputs": []
    },
    {
      "cell_type": "code",
      "source": [
        "def split_transcript(transcript, max_duration=600):\n",
        "    parts = []\n",
        "    current_part = []\n",
        "    current_duration = 0\n",
        "\n",
        "    for entry in transcript:\n",
        "        if current_duration + entry[\"duration\"] <= max_duration:\n",
        "            # Serializa a entrada para JSON e adiciona à parte atual\n",
        "            current_part.append(json.dumps(entry))\n",
        "            current_duration += entry[\"duration\"]\n",
        "        else:\n",
        "            # Decodifica cada entrada de transcrição na parte atual\n",
        "            decoded_part = [bytes(entry, \"utf-8\").decode(\"unicode_escape\") for entry in current_part]\n",
        "            parts.append(decoded_part)  # Adiciona a parte atual à lista de partes\n",
        "            current_part = [json.dumps(entry)]  # Começa uma nova parte com a entrada atual\n",
        "            current_duration = entry[\"duration\"]\n",
        "\n",
        "    # Decodifica a última parte\n",
        "    decoded_part = [bytes(entry, \"utf-8\").decode(\"unicode_escape\") for entry in current_part]\n",
        "    parts.append(decoded_part)\n",
        "\n",
        "    return parts\n",
        "\n",
        "\n",
        "# Dividir o transcript em partes\n",
        "segments = split_transcript(transcripts, max_duration=600)\n",
        "\n",
        "debug_print (f\"Transcript dividido em {len(segments)} partes\")\n",
        "for segment in segments:\n",
        "  debug_print (f\"{segment[:1000]}\")\n",
        "  debug_print (\"---\")"
      ],
      "metadata": {
        "id": "bUnFk6vqX76b"
      },
      "execution_count": 22,
      "outputs": []
    },
    {
      "cell_type": "code",
      "source": [
        "import google.generativeai as genai\n",
        "GOOGLE_API_KEY=\"'-''\"\n",
        "genai.configure(api_key=GOOGLE_API_KEY)"
      ],
      "metadata": {
        "id": "Mc3am1dtX_n1"
      },
      "execution_count": 23,
      "outputs": []
    },
    {
      "cell_type": "code",
      "source": [
        "\n",
        "generation_config = {\n",
        "    \"candidate_count\" : 1,\n",
        "    \"temperature\" : 0.5\n",
        "}\n",
        "\n",
        "safety_settings = {\n",
        "    \"HARASSMENT\" : \"BLOCK_NONE\",\n",
        "    \"HATE\" : \"BLOCK_NONE\",\n",
        "    \"SEXUAL\" : \"BLOCK_NONE\",\n",
        "    \"DANGEROUS\" : \"BLOCK_NONE\"\n",
        "}\n",
        "\n",
        "model = genai.GenerativeModel(\"gemini-1.0-pro\",\n",
        "                              generation_config = generation_config,\n",
        "                              safety_settings = safety_settings)\n",
        ""
      ],
      "metadata": {
        "id": "B4NAWRAQYLja"
      },
      "execution_count": 24,
      "outputs": []
    },
    {
      "cell_type": "code",
      "source": [
        "prompt = \"Preciso descrever o conteúdo de um vídeo do YouTube.\"\n",
        "prompt += \"\\n\".join(segments[0])\n",
        "\n",
        "debug_print(prompt)"
      ],
      "metadata": {
        "id": "wc8kbNF8YOKI"
      },
      "execution_count": 25,
      "outputs": []
    },
    {
      "cell_type": "code",
      "source": [
        "summaries = []\n",
        "clips = []\n",
        "\n",
        "for segment in segments:\n",
        "  prompt = \"Preciso descrever o conteúdo de um vídeo do YouTube.\"\n",
        "  prompt += \" Aqui está o conteúdo:\"\n",
        "  prompt += \"\\n\".join(segment)\n",
        "  prompt += \" Os dados do vídeo estão no formato JSON {text:'', start:'', duration:''}. start representa o início do trecho em segundos, e duration representa a duração do trecho em segundos;\"\n",
        "  prompt += \" Quais são os assuntos discutidos nesse vídeo? Crie uma lista contendo uma descrição do assunto e o valor do campo start em que se inicia o assunto.\"\n",
        "  prompt += \" Também preciso que você faça um breve resumo do vídeo inteiro.\"\n",
        "  prompt += \" Responda no formato JSON, de forma que uma aplicação possa fazer o parse da resposta. Os campos do JSON devem ser exatamente estes: 1. summary: resumo do vídeo e 2: topics: lista dos assuntos, que também deve ter um formato JSON assim definido: 1. description e 2.start\"\n",
        "  prompt += \" O valor de start deve ser exatamente igual ao encontrado no json original.\"\n",
        "  response = model.generate_content(prompt)\n",
        "  response_text = response.text\n",
        "  response_text = response_text.replace(\"```json\", '')\n",
        "  response_text = response_text.replace(\"```\", '')\n",
        "\n",
        "  json_object = json.loads(response_text)\n",
        "\n",
        "  summaries.append(json_object[\"summary\"])\n",
        "  clips.extend(json_object[\"topics\"])\n",
        "\n",
        "for clip in clips:\n",
        "    debug_print(clip)"
      ],
      "metadata": {
        "id": "uthCWqQZYSBg"
      },
      "execution_count": 26,
      "outputs": []
    },
    {
      "cell_type": "code",
      "source": [
        "summaries_string = '\\n'.join(summaries)\n",
        "\n",
        "prompt = \"Preciso descrever o conteúdo de um vídeo do YouTube.\"\n",
        "prompt += \" O vídeo contém vários trechos. Vou enviar o resumo de cada trecho. Você deve ler todos eles e gerar um resumo geral.\"\n",
        "prompt += \" Retorne apenas o resumo geral. Estes são os resumos:\\n\"\n",
        "\n",
        "prompt += summaries_string\n",
        "response = model.generate_content(prompt)\n",
        "\n",
        "total_summary = response.text"
      ],
      "metadata": {
        "id": "hSYFbqSfYXYA"
      },
      "execution_count": 27,
      "outputs": []
    },
    {
      "cell_type": "code",
      "source": [
        "import textwrap\n",
        "from IPython.display import display\n",
        "from IPython.display import Markdown\n",
        "\n",
        "def to_markdown(text):\n",
        "  text = text.replace('•', '  *')\n",
        "  return Markdown(textwrap.indent(text, '> ', predicate=lambda _: True))\n",
        "\n",
        "display (to_markdown(\"### Resumo:\"))\n",
        "display (to_markdown(total_summary))\n",
        "display (to_markdown(\"### Timeline:\"))\n",
        "\n",
        "for clip in clips:\n",
        "  if isinstance(clip['start'], str):\n",
        "    clip['start'] = clip['start'].replace(\"'\", \"\")\n",
        "    clip['start'] = float(clip['start'])\n",
        "\n",
        "for clip in clips:\n",
        "    link = f\"{video_url}&t={clip['start']}s\"\n",
        "    hours = int(clip['start'] // 3600)\n",
        "    minutes = int((clip['start'] % 3600) // 60)\n",
        "    seconds = int(clip['start'] % 60)\n",
        "\n",
        "    # Formato do tempo HH:MM:SS\n",
        "    time_formatted = f\"{hours:02d}:{minutes:02d}:{seconds:02d}\"\n",
        "    #time_formatted = clip['start']\n",
        "    start_aligned = f\"{time_formatted}\".ljust(10)\n",
        "    description_aligned = clip['description'].ljust(50)\n",
        "    display (to_markdown(f\"{start_aligned} - [{description_aligned}]({link})\"))"
      ],
      "metadata": {
        "colab": {
          "base_uri": "https://localhost:8080/",
          "height": 407
        },
        "id": "SKfBNVX3YXMf",
        "outputId": "6bce21b4-bd9f-46ff-df2c-93e881fcfd98"
      },
      "execution_count": 28,
      "outputs": [
        {
          "output_type": "display_data",
          "data": {
            "text/plain": [
              "<IPython.core.display.Markdown object>"
            ],
            "text/markdown": "> ### Resumo:"
          },
          "metadata": {}
        },
        {
          "output_type": "display_data",
          "data": {
            "text/plain": [
              "<IPython.core.display.Markdown object>"
            ],
            "text/markdown": "> O vídeo apresenta uma música inspiradora que incentiva os espectadores a superar desafios, buscar o sucesso e encontrar força em suas comunidades. As letras motivacionais são acompanhadas por imagens de indivíduos em ambientes urbanos, destacando a jornada pessoal e a importância de conexões interpessoais. O vídeo transmite uma mensagem de resiliência, determinação e o poder de apoio para alcançar objetivos."
          },
          "metadata": {}
        },
        {
          "output_type": "display_data",
          "data": {
            "text/plain": [
              "<IPython.core.display.Markdown object>"
            ],
            "text/markdown": "> ### Timeline:"
          },
          "metadata": {}
        },
        {
          "output_type": "display_data",
          "data": {
            "text/plain": [
              "<IPython.core.display.Markdown object>"
            ],
            "text/markdown": "> 00:00:28   - [Motivação e inspiração                            ](https://www.youtube.com/watch?v=OmewFkKuidg&t=28.96s)"
          },
          "metadata": {}
        },
        {
          "output_type": "display_data",
          "data": {
            "text/plain": [
              "<IPython.core.display.Markdown object>"
            ],
            "text/markdown": "> 00:00:35   - [Superação de desafios                             ](https://www.youtube.com/watch?v=OmewFkKuidg&t=35.879s)"
          },
          "metadata": {}
        },
        {
          "output_type": "display_data",
          "data": {
            "text/plain": [
              "<IPython.core.display.Markdown object>"
            ],
            "text/markdown": "> 00:00:39   - [Importância da comunidade                         ](https://www.youtube.com/watch?v=OmewFkKuidg&t=39.36s)"
          },
          "metadata": {}
        },
        {
          "output_type": "display_data",
          "data": {
            "text/plain": [
              "<IPython.core.display.Markdown object>"
            ],
            "text/markdown": "> 00:00:54   - [Busca pelo sucesso                                ](https://www.youtube.com/watch?v=OmewFkKuidg&t=54.719s)"
          },
          "metadata": {}
        },
        {
          "output_type": "display_data",
          "data": {
            "text/plain": [
              "<IPython.core.display.Markdown object>"
            ],
            "text/markdown": "> 00:01:09   - [Igualdade e justiça social                        ](https://www.youtube.com/watch?v=OmewFkKuidg&t=69.4s)"
          },
          "metadata": {}
        },
        {
          "output_type": "display_data",
          "data": {
            "text/plain": [
              "<IPython.core.display.Markdown object>"
            ],
            "text/markdown": "> 00:01:27   - [Autoaperfeiçoamento e educação                    ](https://www.youtube.com/watch?v=OmewFkKuidg&t=87.479s)"
          },
          "metadata": {}
        },
        {
          "output_type": "display_data",
          "data": {
            "text/plain": [
              "<IPython.core.display.Markdown object>"
            ],
            "text/markdown": "> 00:02:14   - [Esperança e otimismo                              ](https://www.youtube.com/watch?v=OmewFkKuidg&t=134.879s)"
          },
          "metadata": {}
        }
      ]
    }
  ]
}